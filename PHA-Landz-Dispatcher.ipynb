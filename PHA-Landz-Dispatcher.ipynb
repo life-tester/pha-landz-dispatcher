{
 "cells": [
  {
   "cell_type": "markdown",
   "id": "3e646075",
   "metadata": {},
   "source": [
    "# 🏰 PHA Landz Dispatcher - Google Colab\n",
    "\n",
    "This notebook allows you to run the **Pixel Heroes Adventure (PHA) Landz Dispatcher** without installing anything on your computer.\n",
    "\n",
    "- ✅ Automatically clones the GitHub repository  \n",
    "- ✅ Installs dependencies  \n",
    "- ✅ Runs `main.py` with your chosen arguments  \n",
    "- 🔒 Never share your Bearer Token with anyone!\n"
   ]
  },
  {
   "cell_type": "code",
   "execution_count": null,
   "id": "9e3ec19f",
   "metadata": {},
   "outputs": [],
   "source": [
    "# 🔄 Clone the repository and install dependencies\n",
    "!git clone https://github.com/life-tester/pha-landz-dispatcher.git\n",
    "%cd pha-landz-dispatcher\n",
    "%pip install -r requirements.txt\n",
    "print(\"✅ Repository cloned and dependencies installed!\")\n"
   ]
  },
  {
   "cell_type": "code",
   "execution_count": null,
   "id": "11a6aa0c",
   "metadata": {},
   "outputs": [],
   "source": [
    "import getpass\n",
    "\n",
    "bearer_token = getpass.getpass(\"Paste your Bearer Token: \")\n",
    "region = \"2\"  # 1 = Meta Toy City, 2 = Ludo City\n",
    "claim_first = True\n",
    "confirm = False  # Start as False to simulate first\n",
    "dispatch_all = False\n",
    "\n",
    "# Build argument string\n",
    "args = f\"--token {bearer_token} --region {region}\"\n",
    "if claim_first:\n",
    "    args += \" --claim-first\"\n",
    "if confirm:\n",
    "    args += \" --confirm\"\n",
    "if dispatch_all:\n",
    "    args += \" --all\"\n",
    "\n",
    "print(\"Final command:\", args)\n"
   ]
  },
  {
   "cell_type": "code",
   "execution_count": null,
   "id": "fc191056",
   "metadata": {},
   "outputs": [],
   "source": [
    "!python main.py $args\n"
   ]
  }
 ],
 "metadata": {
  "kernelspec": {
   "display_name": ".venv",
   "language": "python",
   "name": "python3"
  },
  "language_info": {
   "codemirror_mode": {
    "name": "ipython",
    "version": 3
   },
   "file_extension": ".py",
   "mimetype": "text/x-python",
   "name": "python",
   "nbconvert_exporter": "python",
   "pygments_lexer": "ipython3",
   "version": "3.12.3"
  }
 },
 "nbformat": 4,
 "nbformat_minor": 5
}
