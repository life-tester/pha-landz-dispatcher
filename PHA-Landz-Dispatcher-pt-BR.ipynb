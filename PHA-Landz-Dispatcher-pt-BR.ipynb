{
 "cells": [
  {
   "cell_type": "markdown",
   "id": "0ee760cb",
   "metadata": {},
   "source": [
    "# 🏰 PHA Landz Dispatcher - Google Colab\n",
    "\n",
    "Este notebook permite rodar o **Pixel Heroes Adventure (PHA) Landz Dispatcher** sem instalar nada no seu computador.\n",
    "\n",
    "- ✅ Clona o repositório automaticamente do GitHub  \n",
    "- ✅ Instala as dependências  \n",
    "- ✅ Executa o `main.py` com os argumentos que você escolher  \n",
    "- 🔒 Nunca compartilhe seu Bearer Token com ninguém!\n"
   ]
  },
  {
   "cell_type": "code",
   "execution_count": null,
   "id": "bce1f8d1",
   "metadata": {},
   "outputs": [],
   "source": [
    "# 🔄 Clone do repositório e instalação de dependências\n",
    "!git clone https://github.com/life-tester/pha-landz-dispatcher.git\n",
    "%pip install --quiet requests\n",
    "print(\"✅ Repositório clonado e dependências instaladas!\")\n"
   ]
  },
  {
   "cell_type": "markdown",
   "id": "d0913b38",
   "metadata": {},
   "source": [
    "## 🔑 Cole seu Bearer Token e Defina os Parâmetros\n"
   ]
  },
  {
   "cell_type": "code",
   "execution_count": null,
   "id": "d93a9e24",
   "metadata": {},
   "outputs": [],
   "source": [
    "import getpass\n",
    "\n",
    "bearer_token = getpass.getpass(\"Cole seu Bearer Token: \")\n",
    "region = \"2\"  # 1 = Meta Toy City, 2 = Ludo City\n",
    "claim_first = True\n",
    "confirm = False  # Comece como False para simular primeiro\n",
    "dispatch_all = False\n",
    "\n",
    "# Monta os argumentos para rodar o script\n",
    "args = f\"--token {bearer_token} --region {region}\"\n",
    "if claim_first:\n",
    "    args += \" --claim-first\"\n",
    "if confirm:\n",
    "    args += \" --confirm\"\n",
    "if dispatch_all:\n",
    "    args += \" --all\"\n",
    "\n",
    "print(\"Comando final:\", args)\n"
   ]
  },
  {
   "cell_type": "markdown",
   "id": "6c52d3b5",
   "metadata": {},
   "source": [
    "## 🚀 Executar o Dispatch\n"
   ]
  },
  {
   "cell_type": "code",
   "execution_count": null,
   "id": "06c64359",
   "metadata": {},
   "outputs": [],
   "source": [
    "!python main.py $args\n"
   ]
  }
 ],
 "metadata": {
  "kernelspec": {
   "display_name": ".venv",
   "language": "python",
   "name": "python3"
  },
  "language_info": {
   "codemirror_mode": {
    "name": "ipython",
    "version": 3
   },
   "file_extension": ".py",
   "mimetype": "text/x-python",
   "name": "python",
   "nbconvert_exporter": "python",
   "pygments_lexer": "ipython3",
   "version": "3.12.3"
  }
 },
 "nbformat": 4,
 "nbformat_minor": 5
}
